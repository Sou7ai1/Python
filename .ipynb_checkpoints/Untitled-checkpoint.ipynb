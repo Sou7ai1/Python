{
 "cells": [
  {
   "cell_type": "code",
   "execution_count": 2,
   "id": "6ecccd1a-5376-477e-84bc-8f4387314497",
   "metadata": {},
   "outputs": [],
   "source": [
    "import pandas as pd\n",
    "import numpy as np"
   ]
  },
  {
   "cell_type": "code",
   "execution_count": 3,
   "id": "2ed432dd-d51d-40cc-848c-1aa0eb2cc8f5",
   "metadata": {},
   "outputs": [],
   "source": [
    "x='adult.data.csv'\n",
    "\n",
    "df = pd.read_csv(x)"
   ]
  },
  {
   "cell_type": "code",
   "execution_count": 4,
   "id": "fc864ead-650e-4661-8882-0acd7b674b9e",
   "metadata": {},
   "outputs": [
    {
     "data": {
      "text/html": [
       "<div>\n",
       "<style scoped>\n",
       "    .dataframe tbody tr th:only-of-type {\n",
       "        vertical-align: middle;\n",
       "    }\n",
       "\n",
       "    .dataframe tbody tr th {\n",
       "        vertical-align: top;\n",
       "    }\n",
       "\n",
       "    .dataframe thead th {\n",
       "        text-align: right;\n",
       "    }\n",
       "</style>\n",
       "<table border=\"1\" class=\"dataframe\">\n",
       "  <thead>\n",
       "    <tr style=\"text-align: right;\">\n",
       "      <th></th>\n",
       "      <th>age</th>\n",
       "      <th>workclass</th>\n",
       "      <th>fnlwgt</th>\n",
       "      <th>education</th>\n",
       "      <th>education-num</th>\n",
       "      <th>marital-status</th>\n",
       "      <th>occupation</th>\n",
       "      <th>relationship</th>\n",
       "      <th>race</th>\n",
       "      <th>sex</th>\n",
       "      <th>capital-gain</th>\n",
       "      <th>capital-loss</th>\n",
       "      <th>hours-per-week</th>\n",
       "      <th>native-country</th>\n",
       "      <th>salary</th>\n",
       "    </tr>\n",
       "  </thead>\n",
       "  <tbody>\n",
       "    <tr>\n",
       "      <th>0</th>\n",
       "      <td>39</td>\n",
       "      <td>State-gov</td>\n",
       "      <td>77516</td>\n",
       "      <td>Bachelors</td>\n",
       "      <td>13</td>\n",
       "      <td>Never-married</td>\n",
       "      <td>Adm-clerical</td>\n",
       "      <td>Not-in-family</td>\n",
       "      <td>White</td>\n",
       "      <td>Male</td>\n",
       "      <td>2174</td>\n",
       "      <td>0</td>\n",
       "      <td>40</td>\n",
       "      <td>United-States</td>\n",
       "      <td>&lt;=50K</td>\n",
       "    </tr>\n",
       "    <tr>\n",
       "      <th>1</th>\n",
       "      <td>50</td>\n",
       "      <td>Self-emp-not-inc</td>\n",
       "      <td>83311</td>\n",
       "      <td>Bachelors</td>\n",
       "      <td>13</td>\n",
       "      <td>Married-civ-spouse</td>\n",
       "      <td>Exec-managerial</td>\n",
       "      <td>Husband</td>\n",
       "      <td>White</td>\n",
       "      <td>Male</td>\n",
       "      <td>0</td>\n",
       "      <td>0</td>\n",
       "      <td>13</td>\n",
       "      <td>United-States</td>\n",
       "      <td>&lt;=50K</td>\n",
       "    </tr>\n",
       "    <tr>\n",
       "      <th>2</th>\n",
       "      <td>38</td>\n",
       "      <td>Private</td>\n",
       "      <td>215646</td>\n",
       "      <td>HS-grad</td>\n",
       "      <td>9</td>\n",
       "      <td>Divorced</td>\n",
       "      <td>Handlers-cleaners</td>\n",
       "      <td>Not-in-family</td>\n",
       "      <td>White</td>\n",
       "      <td>Male</td>\n",
       "      <td>0</td>\n",
       "      <td>0</td>\n",
       "      <td>40</td>\n",
       "      <td>United-States</td>\n",
       "      <td>&lt;=50K</td>\n",
       "    </tr>\n",
       "    <tr>\n",
       "      <th>3</th>\n",
       "      <td>53</td>\n",
       "      <td>Private</td>\n",
       "      <td>234721</td>\n",
       "      <td>11th</td>\n",
       "      <td>7</td>\n",
       "      <td>Married-civ-spouse</td>\n",
       "      <td>Handlers-cleaners</td>\n",
       "      <td>Husband</td>\n",
       "      <td>Black</td>\n",
       "      <td>Male</td>\n",
       "      <td>0</td>\n",
       "      <td>0</td>\n",
       "      <td>40</td>\n",
       "      <td>United-States</td>\n",
       "      <td>&lt;=50K</td>\n",
       "    </tr>\n",
       "    <tr>\n",
       "      <th>4</th>\n",
       "      <td>28</td>\n",
       "      <td>Private</td>\n",
       "      <td>338409</td>\n",
       "      <td>Bachelors</td>\n",
       "      <td>13</td>\n",
       "      <td>Married-civ-spouse</td>\n",
       "      <td>Prof-specialty</td>\n",
       "      <td>Wife</td>\n",
       "      <td>Black</td>\n",
       "      <td>Female</td>\n",
       "      <td>0</td>\n",
       "      <td>0</td>\n",
       "      <td>40</td>\n",
       "      <td>Cuba</td>\n",
       "      <td>&lt;=50K</td>\n",
       "    </tr>\n",
       "  </tbody>\n",
       "</table>\n",
       "</div>"
      ],
      "text/plain": [
       "   age         workclass  fnlwgt  education  education-num  \\\n",
       "0   39         State-gov   77516  Bachelors             13   \n",
       "1   50  Self-emp-not-inc   83311  Bachelors             13   \n",
       "2   38           Private  215646    HS-grad              9   \n",
       "3   53           Private  234721       11th              7   \n",
       "4   28           Private  338409  Bachelors             13   \n",
       "\n",
       "       marital-status         occupation   relationship   race     sex  \\\n",
       "0       Never-married       Adm-clerical  Not-in-family  White    Male   \n",
       "1  Married-civ-spouse    Exec-managerial        Husband  White    Male   \n",
       "2            Divorced  Handlers-cleaners  Not-in-family  White    Male   \n",
       "3  Married-civ-spouse  Handlers-cleaners        Husband  Black    Male   \n",
       "4  Married-civ-spouse     Prof-specialty           Wife  Black  Female   \n",
       "\n",
       "   capital-gain  capital-loss  hours-per-week native-country salary  \n",
       "0          2174             0              40  United-States  <=50K  \n",
       "1             0             0              13  United-States  <=50K  \n",
       "2             0             0              40  United-States  <=50K  \n",
       "3             0             0              40  United-States  <=50K  \n",
       "4             0             0              40           Cuba  <=50K  "
      ]
     },
     "execution_count": 4,
     "metadata": {},
     "output_type": "execute_result"
    }
   ],
   "source": [
    "df.head()"
   ]
  },
  {
   "cell_type": "code",
   "execution_count": 5,
   "id": "9b9309c4-20dd-4e8f-b837-96c397c5f431",
   "metadata": {},
   "outputs": [
    {
     "data": {
      "text/plain": [
       "race\n",
       "Amer-Indian-Eskimo      311\n",
       "Asian-Pac-Islander     1039\n",
       "Black                  3124\n",
       "Other                   271\n",
       "White                 27816\n",
       "Name: race, dtype: int64"
      ]
     },
     "execution_count": 5,
     "metadata": {},
     "output_type": "execute_result"
    }
   ],
   "source": [
    "series_race=df.groupby('race')['race']\n",
    "\n",
    "\n",
    "\n",
    "series_race.count()"
   ]
  },
  {
   "cell_type": "code",
   "execution_count": 161,
   "id": "5c3f97fb-4681-42f4-a7bd-4d7a5c1b1bef",
   "metadata": {},
   "outputs": [
    {
     "name": "stdout",
     "output_type": "stream",
     "text": [
      "The average age of men is 39.43354749885268 years\n"
     ]
    }
   ],
   "source": [
    "age=df[df['sex']=='Male']\n",
    "avg_man_age=age['age'].sum()/age['age'].count()\n",
    "\n",
    "print(\"The average age of men is\",avg_man_age,\"years\")"
   ]
  },
  {
   "cell_type": "code",
   "execution_count": 158,
   "id": "2a594328-164e-41f9-a278-e1da0151abbe",
   "metadata": {},
   "outputs": [
    {
     "name": "stdout",
     "output_type": "stream",
     "text": [
      "The percentage of people who have a Bachelor's degree is 16.44605509658794 %\n"
     ]
    }
   ],
   "source": [
    "bachelor= df[df['education']=='Bachelors'].count()/df['education'].count()*100\n",
    "\n",
    "print(\"The percentage of people who have a Bachelor's degree is\",bachelor['education'],'%')\n"
   ]
  },
  {
   "cell_type": "code",
   "execution_count": 154,
   "id": "ce0c6ebb-2830-43e5-a5d2-c0c9ccbef4ba",
   "metadata": {},
   "outputs": [
    {
     "name": "stdout",
     "output_type": "stream",
     "text": [
      "The percentage of people with advanced education that make more than 50K is 46.535843011613935 %\n"
     ]
    }
   ],
   "source": [
    "advanced_edu = df[(df['education'] == 'Bachelors') | (df['education'] == 'Masters') | (df['education'] == 'Doctorate')]\n",
    "advanced_edu_perc=advanced_edu[advanced_edu['salary'] == '>50K'].count()/advanced_edu.count()*100\n",
    "\n",
    "\n",
    "print('The percentage of people with advanced education that make more than 50K is',advanced_edu_perc['education'],'%')"
   ]
  },
  {
   "cell_type": "code",
   "execution_count": 153,
   "id": "297a7e3e-1631-4564-af0a-cda61adb1c99",
   "metadata": {},
   "outputs": [
    {
     "name": "stdout",
     "output_type": "stream",
     "text": [
      "The percentage of people without advanced education make more than 50K is 17.3713601914639 %\n"
     ]
    }
   ],
   "source": [
    "lower_edu=df[(~df['education'].isin(['Bachelors', 'Masters', 'Doctorate']))]\n",
    "\n",
    "lower_edu_perc=lower_edu[lower_edu['salary'] == '>50K'].count()/lower_edu.count()*100\n",
    "\n",
    "print('The percentage of people without advanced education make more than 50K is',lower_edu_perc['education'],'%')"
   ]
  },
  {
   "cell_type": "code",
   "execution_count": 151,
   "id": "8b61531c-2a46-4697-b171-7de8dbfd2393",
   "metadata": {},
   "outputs": [
    {
     "name": "stdout",
     "output_type": "stream",
     "text": [
      "The minimum number of hours a person works per week is 1 h per week\n"
     ]
    }
   ],
   "source": [
    "min_hours_week=df['hours-per-week']\n",
    "min_hours_week_n=min_hours_week.min()\n",
    "print('The minimum number of hours a person works per week is',min_hours_week_n,'h per week')"
   ]
  },
  {
   "cell_type": "code",
   "execution_count": 147,
   "id": "5eb3f340-982c-48bf-b8ec-ccf727cdb050",
   "metadata": {},
   "outputs": [
    {
     "name": "stdout",
     "output_type": "stream",
     "text": [
      "percentage of the people who work the minimum number of hours per week have a salary of more than 50K is 10.0 %\n"
     ]
    }
   ],
   "source": [
    "ppl_1h_50k=df[(df['hours-per-week']==min_hours_week_n)&(df['salary']=='>50K')]\n",
    "perct=ppl_1h_50k.count()/df[df['hours-per-week']==min_hours_week_n].count()*100\n",
    "\n",
    "\n",
    "print('percentage of the people who work the minimum number of hours per week have a salary of more than 50K is',perct['salary'],'%')"
   ]
  },
  {
   "cell_type": "code",
   "execution_count": 162,
   "id": "b4fefb69-fec0-46ea-842e-0dd01157d72e",
   "metadata": {},
   "outputs": [
    {
     "name": "stdout",
     "output_type": "stream",
     "text": [
      "The country with the highest percentage of people that earn >50K is The United-States with a percentage of : 91.45517153424308 %\n"
     ]
    }
   ],
   "source": [
    "countries_hgh_slry= df[df['salary']=='>50K'].groupby('native-country')\n",
    "chs=countries_hgh_slry.count().sort_values('salary',ascending=False)\n",
    "\n",
    "perctt=chs.iloc[0]/df[df['salary']=='>50K'].count()*100\n",
    "\n",
    "print('The country with the highest percentage of people that earn >50K is The',chs.iloc[0].name,'with a percentage of :',perctt['salary'],'%')"
   ]
  },
  {
   "cell_type": "code",
   "execution_count": 175,
   "id": "56d0d0e3-cc6b-4342-8f2f-abbde21a5df4",
   "metadata": {},
   "outputs": [
    {
     "data": {
      "text/plain": [
       "age               40\n",
       "workclass         40\n",
       "fnlwgt            40\n",
       "education         40\n",
       "education-num     40\n",
       "marital-status    40\n",
       "occupation        40\n",
       "relationship      40\n",
       "race              40\n",
       "sex               40\n",
       "capital-gain      40\n",
       "capital-loss      40\n",
       "hours-per-week    40\n",
       "salary            40\n",
       "Name: India, dtype: int64"
      ]
     },
     "execution_count": 175,
     "metadata": {},
     "output_type": "execute_result"
    }
   ],
   "source": [
    "chs.loc['India']"
   ]
  },
  {
   "cell_type": "code",
   "execution_count": null,
   "id": "dc6b90de-55e5-49a1-abcb-e3045aa84f2b",
   "metadata": {},
   "outputs": [],
   "source": []
  }
 ],
 "metadata": {
  "kernelspec": {
   "display_name": "Python 3 (ipykernel)",
   "language": "python",
   "name": "python3"
  },
  "language_info": {
   "codemirror_mode": {
    "name": "ipython",
    "version": 3
   },
   "file_extension": ".py",
   "mimetype": "text/x-python",
   "name": "python",
   "nbconvert_exporter": "python",
   "pygments_lexer": "ipython3",
   "version": "3.12.1"
  }
 },
 "nbformat": 4,
 "nbformat_minor": 5
}
